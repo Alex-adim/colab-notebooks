{
  "nbformat": 4,
  "nbformat_minor": 0,
  "metadata": {
    "colab": {
      "name": "Intro-to-Pandas-and basic training models.ipynb",
      "provenance": [],
      "collapsed_sections": [],
      "authorship_tag": "ABX9TyNp8pgRXzn+Ul6J9fkZ9ROu",
      "include_colab_link": true
    },
    "kernelspec": {
      "name": "python3",
      "display_name": "Python 3"
    }
  },
  "cells": [
    {
      "cell_type": "markdown",
      "metadata": {
        "id": "view-in-github",
        "colab_type": "text"
      },
      "source": [
        "<a href=\"https://colab.research.google.com/github/Alex-adim/colab-notebooks/blob/master/Intro_to_Pandas_and_basic_training_models.ipynb\" target=\"_parent\"><img src=\"https://colab.research.google.com/assets/colab-badge.svg\" alt=\"Open In Colab\"/></a>"
      ]
    },
    {
      "cell_type": "code",
      "metadata": {
        "id": "Ybfv5ZXH_EpG",
        "colab_type": "code",
        "colab": {}
      },
      "source": [
        "#Very simple example of how to work with data frames in Pandas and training a simple model\n",
        "#For more on Pandas read https://pandas.pydata.org/pandas-docs/stable/getting_started/10min.html \n",
        "\n",
        "#Alex's tutorial on tuning regression models \n",
        "https://nbviewer.jupyter.org/url/users.ece.utexas.edu/~dimakis/DataScience/intro-to-kaggle.ipynb\n",
        "\n",
        "#Useful tutorial for missing data (On Kaggle titanic) \n",
        "https://www.kaggle.com/pavansanagapati/simple-tutorial-how-to-handle-missing-data\n",
        "\n",
        "# Introduction to feature exploration and tuning \n",
        "https://www.kaggle.com/arthurtok/introduction-to-ensembling-stacking-in-python\n",
        "\n",
        "import pandas as pd\n",
        "import numpy as np\n",
        "import matplotlib"
      ],
      "execution_count": 0,
      "outputs": []
    },
    {
      "cell_type": "code",
      "metadata": {
        "id": "6i1mO8UWFwRP",
        "colab_type": "code",
        "colab": {}
      },
      "source": [
        "#lets warm up with data frames in pandas \n",
        "df = pd.DataFrame([[0.8, 'Sugar', 0.8, 1],\n",
        "                   [0.3, 'Aspartame', 0.25, 0],\n",
        "                   [0.2, 'Sugar', 0.8, 0],\n",
        "                   [0.3, 'Surcalose', 0.7, 1],\n",
        "                   [0.9, 'Sugar',0.7, 1 ]],\n",
        "                  columns=['Acidity','SwtUsed','Sweetness','FocusGroupScore'])"
      ],
      "execution_count": 0,
      "outputs": []
    },
    {
      "cell_type": "code",
      "metadata": {
        "id": "kzmRhiEfF1PD",
        "colab_type": "code",
        "colab": {
          "base_uri": "https://localhost:8080/",
          "height": 198
        },
        "outputId": "a650ffbe-5afb-47b2-8f66-8837d11cf2b4"
      },
      "source": [
        "df"
      ],
      "execution_count": 24,
      "outputs": [
        {
          "output_type": "execute_result",
          "data": {
            "text/html": [
              "<div>\n",
              "<style scoped>\n",
              "    .dataframe tbody tr th:only-of-type {\n",
              "        vertical-align: middle;\n",
              "    }\n",
              "\n",
              "    .dataframe tbody tr th {\n",
              "        vertical-align: top;\n",
              "    }\n",
              "\n",
              "    .dataframe thead th {\n",
              "        text-align: right;\n",
              "    }\n",
              "</style>\n",
              "<table border=\"1\" class=\"dataframe\">\n",
              "  <thead>\n",
              "    <tr style=\"text-align: right;\">\n",
              "      <th></th>\n",
              "      <th>Acidity</th>\n",
              "      <th>SwtUsed</th>\n",
              "      <th>Sweetness</th>\n",
              "      <th>FocusGroupScore</th>\n",
              "    </tr>\n",
              "  </thead>\n",
              "  <tbody>\n",
              "    <tr>\n",
              "      <th>0</th>\n",
              "      <td>0.8</td>\n",
              "      <td>Sugar</td>\n",
              "      <td>0.80</td>\n",
              "      <td>1</td>\n",
              "    </tr>\n",
              "    <tr>\n",
              "      <th>1</th>\n",
              "      <td>0.3</td>\n",
              "      <td>Aspartame</td>\n",
              "      <td>0.25</td>\n",
              "      <td>0</td>\n",
              "    </tr>\n",
              "    <tr>\n",
              "      <th>2</th>\n",
              "      <td>0.2</td>\n",
              "      <td>Sugar</td>\n",
              "      <td>0.80</td>\n",
              "      <td>0</td>\n",
              "    </tr>\n",
              "    <tr>\n",
              "      <th>3</th>\n",
              "      <td>0.3</td>\n",
              "      <td>Surcalose</td>\n",
              "      <td>0.70</td>\n",
              "      <td>1</td>\n",
              "    </tr>\n",
              "    <tr>\n",
              "      <th>4</th>\n",
              "      <td>0.9</td>\n",
              "      <td>Sugar</td>\n",
              "      <td>0.70</td>\n",
              "      <td>1</td>\n",
              "    </tr>\n",
              "  </tbody>\n",
              "</table>\n",
              "</div>"
            ],
            "text/plain": [
              "   Acidity    SwtUsed  Sweetness  FocusGroupScore\n",
              "0      0.8      Sugar       0.80                1\n",
              "1      0.3  Aspartame       0.25                0\n",
              "2      0.2      Sugar       0.80                0\n",
              "3      0.3  Surcalose       0.70                1\n",
              "4      0.9      Sugar       0.70                1"
            ]
          },
          "metadata": {
            "tags": []
          },
          "execution_count": 24
        }
      ]
    },
    {
      "cell_type": "code",
      "metadata": {
        "id": "OZV3xyzjIJ-0",
        "colab_type": "code",
        "colab": {
          "base_uri": "https://localhost:8080/",
          "height": 121
        },
        "outputId": "62b42d53-25c5-4516-8611-e6eaf7f0d44a"
      },
      "source": [
        "df.Acidity"
      ],
      "execution_count": 25,
      "outputs": [
        {
          "output_type": "execute_result",
          "data": {
            "text/plain": [
              "0    0.8\n",
              "1    0.3\n",
              "2    0.2\n",
              "3    0.3\n",
              "4    0.9\n",
              "Name: Acidity, dtype: float64"
            ]
          },
          "metadata": {
            "tags": []
          },
          "execution_count": 25
        }
      ]
    },
    {
      "cell_type": "code",
      "metadata": {
        "id": "M7nO3eD_IZX_",
        "colab_type": "code",
        "colab": {}
      },
      "source": [
        "#Slicing and dicing. We want to run simple models on this so we should separate the training data from the y column\n",
        "X_train= df.loc[:,'Acidity':'Sweetness']\n",
        "y= df.loc[:,'FocusGroupScore']"
      ],
      "execution_count": 0,
      "outputs": []
    },
    {
      "cell_type": "code",
      "metadata": {
        "id": "MPpapXhFJZ-i",
        "colab_type": "code",
        "colab": {}
      },
      "source": [
        "X_train=pd.get_dummies(X_train)"
      ],
      "execution_count": 0,
      "outputs": []
    },
    {
      "cell_type": "code",
      "metadata": {
        "id": "wfe757F1Jiqc",
        "colab_type": "code",
        "colab": {
          "base_uri": "https://localhost:8080/",
          "height": 198
        },
        "outputId": "9b75a2d9-718d-488a-aeea-18c2765c7f37"
      },
      "source": [
        "X_train"
      ],
      "execution_count": 28,
      "outputs": [
        {
          "output_type": "execute_result",
          "data": {
            "text/html": [
              "<div>\n",
              "<style scoped>\n",
              "    .dataframe tbody tr th:only-of-type {\n",
              "        vertical-align: middle;\n",
              "    }\n",
              "\n",
              "    .dataframe tbody tr th {\n",
              "        vertical-align: top;\n",
              "    }\n",
              "\n",
              "    .dataframe thead th {\n",
              "        text-align: right;\n",
              "    }\n",
              "</style>\n",
              "<table border=\"1\" class=\"dataframe\">\n",
              "  <thead>\n",
              "    <tr style=\"text-align: right;\">\n",
              "      <th></th>\n",
              "      <th>Acidity</th>\n",
              "      <th>Sweetness</th>\n",
              "      <th>SwtUsed_Aspartame</th>\n",
              "      <th>SwtUsed_Sugar</th>\n",
              "      <th>SwtUsed_Surcalose</th>\n",
              "    </tr>\n",
              "  </thead>\n",
              "  <tbody>\n",
              "    <tr>\n",
              "      <th>0</th>\n",
              "      <td>0.8</td>\n",
              "      <td>0.80</td>\n",
              "      <td>0</td>\n",
              "      <td>1</td>\n",
              "      <td>0</td>\n",
              "    </tr>\n",
              "    <tr>\n",
              "      <th>1</th>\n",
              "      <td>0.3</td>\n",
              "      <td>0.25</td>\n",
              "      <td>1</td>\n",
              "      <td>0</td>\n",
              "      <td>0</td>\n",
              "    </tr>\n",
              "    <tr>\n",
              "      <th>2</th>\n",
              "      <td>0.2</td>\n",
              "      <td>0.80</td>\n",
              "      <td>0</td>\n",
              "      <td>1</td>\n",
              "      <td>0</td>\n",
              "    </tr>\n",
              "    <tr>\n",
              "      <th>3</th>\n",
              "      <td>0.3</td>\n",
              "      <td>0.70</td>\n",
              "      <td>0</td>\n",
              "      <td>0</td>\n",
              "      <td>1</td>\n",
              "    </tr>\n",
              "    <tr>\n",
              "      <th>4</th>\n",
              "      <td>0.9</td>\n",
              "      <td>0.70</td>\n",
              "      <td>0</td>\n",
              "      <td>1</td>\n",
              "      <td>0</td>\n",
              "    </tr>\n",
              "  </tbody>\n",
              "</table>\n",
              "</div>"
            ],
            "text/plain": [
              "   Acidity  Sweetness  SwtUsed_Aspartame  SwtUsed_Sugar  SwtUsed_Surcalose\n",
              "0      0.8       0.80                  0              1                  0\n",
              "1      0.3       0.25                  1              0                  0\n",
              "2      0.2       0.80                  0              1                  0\n",
              "3      0.3       0.70                  0              0                  1\n",
              "4      0.9       0.70                  0              1                  0"
            ]
          },
          "metadata": {
            "tags": []
          },
          "execution_count": 28
        }
      ]
    },
    {
      "cell_type": "code",
      "metadata": {
        "id": "BNwt8U05IxuP",
        "colab_type": "code",
        "colab": {}
      },
      "source": [
        "from sklearn import tree\n",
        "clf = tree.DecisionTreeClassifier(max_depth=5)\n",
        "clf = clf.fit(X_train, y)"
      ],
      "execution_count": 0,
      "outputs": []
    },
    {
      "cell_type": "code",
      "metadata": {
        "id": "SXfKz_qdJqCS",
        "colab_type": "code",
        "colab": {
          "base_uri": "https://localhost:8080/",
          "height": 335
        },
        "outputId": "2244b6c0-bb27-458c-bae8-c087bb92eced"
      },
      "source": [
        "tree.plot_tree(clf,class_names='tf')"
      ],
      "execution_count": 30,
      "outputs": [
        {
          "output_type": "execute_result",
          "data": {
            "text/plain": [
              "[Text(200.88000000000002, 181.2, 'X[0] <= 0.55\\ngini = 0.48\\nsamples = 5\\nvalue = [2, 3]\\nclass = f'),\n",
              " Text(133.92000000000002, 108.72, 'X[4] <= 0.5\\ngini = 0.444\\nsamples = 3\\nvalue = [2, 1]\\nclass = t'),\n",
              " Text(66.96000000000001, 36.23999999999998, 'gini = 0.0\\nsamples = 2\\nvalue = [2, 0]\\nclass = t'),\n",
              " Text(200.88000000000002, 36.23999999999998, 'gini = 0.0\\nsamples = 1\\nvalue = [0, 1]\\nclass = f'),\n",
              " Text(267.84000000000003, 108.72, 'gini = 0.0\\nsamples = 2\\nvalue = [0, 2]\\nclass = f')]"
            ]
          },
          "metadata": {
            "tags": []
          },
          "execution_count": 30
        },
        {
          "output_type": "display_data",
          "data": {
            "image/png": "[encoded data removed]",
            "text/plain": [
              "<Figure size 432x288 with 1 Axes>"
            ]
          },
          "metadata": {
            "tags": [],
            "needs_background": "light"
          }
        }
      ]
    },
    {
      "cell_type": "code",
      "metadata": {
        "id": "Hz7Mrki1KNwP",
        "colab_type": "code",
        "colab": {
          "base_uri": "https://localhost:8080/",
          "height": 35
        },
        "outputId": "e656831a-9bb6-4d76-f7f4-6dec39cafbec"
      },
      "source": [
        "clf.predict(X_train.loc[:,:])"
      ],
      "execution_count": 32,
      "outputs": [
        {
          "output_type": "execute_result",
          "data": {
            "text/plain": [
              "array([1, 0, 0, 1, 1])"
            ]
          },
          "metadata": {
            "tags": []
          },
          "execution_count": 32
        }
      ]
    },
    {
      "cell_type": "code",
      "metadata": {
        "id": "6rqIPtqPQPnJ",
        "colab_type": "code",
        "colab": {
          "base_uri": "https://localhost:8080/",
          "height": 35
        },
        "outputId": "c0c45d1a-060e-43cd-fb02-c5a71b61b687"
      },
      "source": [
        "clf.get_depth()"
      ],
      "execution_count": 33,
      "outputs": [
        {
          "output_type": "execute_result",
          "data": {
            "text/plain": [
              "2"
            ]
          },
          "metadata": {
            "tags": []
          },
          "execution_count": 33
        }
      ]
    },
    {
      "cell_type": "code",
      "metadata": {
        "id": "uYfh9IOrRkgX",
        "colab_type": "code",
        "colab": {}
      },
      "source": [
        "#Finally, lets see how we fill in missing data using pd.fillna  "
      ],
      "execution_count": 0,
      "outputs": []
    },
    {
      "cell_type": "code",
      "metadata": {
        "id": "lWSp-QjfRme_",
        "colab_type": "code",
        "colab": {}
      },
      "source": [
        "#nans in Pandas \n",
        "df2 = pd.DataFrame([[np.nan, 'Sugar', 0.2, 1],\n",
        "                   [0.3, 'Sugar', np.nan, 0],\n",
        "                   [0.2, 'Sugar', np.nan, 0],\n",
        "                   [0.3, 'Aspartame', 0.7, 1],\n",
        "                   [0.9, 'Sugar',0.7, 1 ]],\n",
        "                  columns=['Acidity','SwtUsed','Sweetness','FocusGroupScore'])"
      ],
      "execution_count": 0,
      "outputs": []
    },
    {
      "cell_type": "code",
      "metadata": {
        "id": "nwJzYradS3AW",
        "colab_type": "code",
        "colab": {
          "base_uri": "https://localhost:8080/",
          "height": 198
        },
        "outputId": "15f2d253-54c1-4eb1-e7f4-6dafb014213a"
      },
      "source": [
        "df2"
      ],
      "execution_count": 51,
      "outputs": [
        {
          "output_type": "execute_result",
          "data": {
            "text/html": [
              "<div>\n",
              "<style scoped>\n",
              "    .dataframe tbody tr th:only-of-type {\n",
              "        vertical-align: middle;\n",
              "    }\n",
              "\n",
              "    .dataframe tbody tr th {\n",
              "        vertical-align: top;\n",
              "    }\n",
              "\n",
              "    .dataframe thead th {\n",
              "        text-align: right;\n",
              "    }\n",
              "</style>\n",
              "<table border=\"1\" class=\"dataframe\">\n",
              "  <thead>\n",
              "    <tr style=\"text-align: right;\">\n",
              "      <th></th>\n",
              "      <th>Acidity</th>\n",
              "      <th>SwtUsed</th>\n",
              "      <th>Sweetness</th>\n",
              "      <th>FocusGroupScore</th>\n",
              "    </tr>\n",
              "  </thead>\n",
              "  <tbody>\n",
              "    <tr>\n",
              "      <th>0</th>\n",
              "      <td>NaN</td>\n",
              "      <td>Sugar</td>\n",
              "      <td>0.2</td>\n",
              "      <td>1</td>\n",
              "    </tr>\n",
              "    <tr>\n",
              "      <th>1</th>\n",
              "      <td>0.3</td>\n",
              "      <td>Sugar</td>\n",
              "      <td>NaN</td>\n",
              "      <td>0</td>\n",
              "    </tr>\n",
              "    <tr>\n",
              "      <th>2</th>\n",
              "      <td>0.2</td>\n",
              "      <td>Sugar</td>\n",
              "      <td>NaN</td>\n",
              "      <td>0</td>\n",
              "    </tr>\n",
              "    <tr>\n",
              "      <th>3</th>\n",
              "      <td>0.3</td>\n",
              "      <td>Aspartame</td>\n",
              "      <td>0.7</td>\n",
              "      <td>1</td>\n",
              "    </tr>\n",
              "    <tr>\n",
              "      <th>4</th>\n",
              "      <td>0.9</td>\n",
              "      <td>Sugar</td>\n",
              "      <td>0.7</td>\n",
              "      <td>1</td>\n",
              "    </tr>\n",
              "  </tbody>\n",
              "</table>\n",
              "</div>"
            ],
            "text/plain": [
              "   Acidity    SwtUsed  Sweetness  FocusGroupScore\n",
              "0      NaN      Sugar        0.2                1\n",
              "1      0.3      Sugar        NaN                0\n",
              "2      0.2      Sugar        NaN                0\n",
              "3      0.3  Aspartame        0.7                1\n",
              "4      0.9      Sugar        0.7                1"
            ]
          },
          "metadata": {
            "tags": []
          },
          "execution_count": 51
        }
      ]
    },
    {
      "cell_type": "code",
      "metadata": {
        "id": "xoC94Z94SVAg",
        "colab_type": "code",
        "colab": {
          "base_uri": "https://localhost:8080/",
          "height": 198
        },
        "outputId": "5c7fe4c4-4df4-4699-84c7-8d714720ef00"
      },
      "source": [
        "df2.fillna(df.mean())"
      ],
      "execution_count": 47,
      "outputs": [
        {
          "output_type": "execute_result",
          "data": {
            "text/html": [
              "<div>\n",
              "<style scoped>\n",
              "    .dataframe tbody tr th:only-of-type {\n",
              "        vertical-align: middle;\n",
              "    }\n",
              "\n",
              "    .dataframe tbody tr th {\n",
              "        vertical-align: top;\n",
              "    }\n",
              "\n",
              "    .dataframe thead th {\n",
              "        text-align: right;\n",
              "    }\n",
              "</style>\n",
              "<table border=\"1\" class=\"dataframe\">\n",
              "  <thead>\n",
              "    <tr style=\"text-align: right;\">\n",
              "      <th></th>\n",
              "      <th>Acidity</th>\n",
              "      <th>SwtUsed</th>\n",
              "      <th>Sweetness</th>\n",
              "      <th>FocusGroupScore</th>\n",
              "    </tr>\n",
              "  </thead>\n",
              "  <tbody>\n",
              "    <tr>\n",
              "      <th>0</th>\n",
              "      <td>0.5</td>\n",
              "      <td>Sugar</td>\n",
              "      <td>0.20</td>\n",
              "      <td>1</td>\n",
              "    </tr>\n",
              "    <tr>\n",
              "      <th>1</th>\n",
              "      <td>0.3</td>\n",
              "      <td>Sugar</td>\n",
              "      <td>0.65</td>\n",
              "      <td>0</td>\n",
              "    </tr>\n",
              "    <tr>\n",
              "      <th>2</th>\n",
              "      <td>0.2</td>\n",
              "      <td>Sugar</td>\n",
              "      <td>0.65</td>\n",
              "      <td>0</td>\n",
              "    </tr>\n",
              "    <tr>\n",
              "      <th>3</th>\n",
              "      <td>0.3</td>\n",
              "      <td>Aspartame</td>\n",
              "      <td>0.70</td>\n",
              "      <td>1</td>\n",
              "    </tr>\n",
              "    <tr>\n",
              "      <th>4</th>\n",
              "      <td>0.9</td>\n",
              "      <td>Sugar</td>\n",
              "      <td>0.70</td>\n",
              "      <td>1</td>\n",
              "    </tr>\n",
              "  </tbody>\n",
              "</table>\n",
              "</div>"
            ],
            "text/plain": [
              "   Acidity    SwtUsed  Sweetness  FocusGroupScore\n",
              "0      0.5      Sugar       0.20                1\n",
              "1      0.3      Sugar       0.65                0\n",
              "2      0.2      Sugar       0.65                0\n",
              "3      0.3  Aspartame       0.70                1\n",
              "4      0.9      Sugar       0.70                1"
            ]
          },
          "metadata": {
            "tags": []
          },
          "execution_count": 47
        }
      ]
    },
    {
      "cell_type": "code",
      "metadata": {
        "id": "R_1pE1zQE2kN",
        "colab_type": "code",
        "colab": {}
      },
      "source": [
        "X_train=pd.get_dummies(df2) "
      ],
      "execution_count": 0,
      "outputs": []
    },
    {
      "cell_type": "code",
      "metadata": {
        "id": "byUODB7FRl3H",
        "colab_type": "code",
        "colab": {
          "base_uri": "https://localhost:8080/",
          "height": 198
        },
        "outputId": "f6a369f4-2feb-42ab-880a-86e90fe7ce70"
      },
      "source": [
        "X_train"
      ],
      "execution_count": 44,
      "outputs": [
        {
          "output_type": "execute_result",
          "data": {
            "text/html": [
              "<div>\n",
              "<style scoped>\n",
              "    .dataframe tbody tr th:only-of-type {\n",
              "        vertical-align: middle;\n",
              "    }\n",
              "\n",
              "    .dataframe tbody tr th {\n",
              "        vertical-align: top;\n",
              "    }\n",
              "\n",
              "    .dataframe thead th {\n",
              "        text-align: right;\n",
              "    }\n",
              "</style>\n",
              "<table border=\"1\" class=\"dataframe\">\n",
              "  <thead>\n",
              "    <tr style=\"text-align: right;\">\n",
              "      <th></th>\n",
              "      <th>Acidity</th>\n",
              "      <th>Sweetness</th>\n",
              "      <th>FocusGroupScore</th>\n",
              "      <th>SwtUsed_5</th>\n",
              "      <th>SwtUsed_Sugar</th>\n",
              "    </tr>\n",
              "  </thead>\n",
              "  <tbody>\n",
              "    <tr>\n",
              "      <th>0</th>\n",
              "      <td>NaN</td>\n",
              "      <td>0.2</td>\n",
              "      <td>1</td>\n",
              "      <td>0</td>\n",
              "      <td>1</td>\n",
              "    </tr>\n",
              "    <tr>\n",
              "      <th>1</th>\n",
              "      <td>0.3</td>\n",
              "      <td>NaN</td>\n",
              "      <td>0</td>\n",
              "      <td>0</td>\n",
              "      <td>1</td>\n",
              "    </tr>\n",
              "    <tr>\n",
              "      <th>2</th>\n",
              "      <td>0.2</td>\n",
              "      <td>NaN</td>\n",
              "      <td>0</td>\n",
              "      <td>0</td>\n",
              "      <td>1</td>\n",
              "    </tr>\n",
              "    <tr>\n",
              "      <th>3</th>\n",
              "      <td>0.3</td>\n",
              "      <td>0.7</td>\n",
              "      <td>1</td>\n",
              "      <td>1</td>\n",
              "      <td>0</td>\n",
              "    </tr>\n",
              "    <tr>\n",
              "      <th>4</th>\n",
              "      <td>0.9</td>\n",
              "      <td>0.7</td>\n",
              "      <td>1</td>\n",
              "      <td>0</td>\n",
              "      <td>1</td>\n",
              "    </tr>\n",
              "  </tbody>\n",
              "</table>\n",
              "</div>"
            ],
            "text/plain": [
              "   Acidity  Sweetness  FocusGroupScore  SwtUsed_5  SwtUsed_Sugar\n",
              "0      NaN        0.2                1          0              1\n",
              "1      0.3        NaN                0          0              1\n",
              "2      0.2        NaN                0          0              1\n",
              "3      0.3        0.7                1          1              0\n",
              "4      0.9        0.7                1          0              1"
            ]
          },
          "metadata": {
            "tags": []
          },
          "execution_count": 44
        }
      ]
    },
    {
      "cell_type": "code",
      "metadata": {
        "id": "U_fvm3FlSqUD",
        "colab_type": "code",
        "colab": {}
      },
      "source": [
        ""
      ],
      "execution_count": 0,
      "outputs": []
    }
  ]
}